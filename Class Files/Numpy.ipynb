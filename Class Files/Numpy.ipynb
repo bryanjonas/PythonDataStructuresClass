{
 "cells": [
  {
   "cell_type": "markdown",
   "metadata": {},
   "source": [
    "# Numpy"
   ]
  },
  {
   "cell_type": "code",
   "execution_count": 3,
   "metadata": {},
   "outputs": [],
   "source": [
    "import numpy as np"
   ]
  },
  {
   "cell_type": "markdown",
   "metadata": {},
   "source": [
    "- When you feel the need for more dimensions"
   ]
  },
  {
   "cell_type": "code",
   "execution_count": 34,
   "metadata": {},
   "outputs": [],
   "source": [
    "oneDimArray = np.zeros((5))\n",
    "twoDimArray = np.ones((5,5))\n",
    "threeDimArray = np.random.randint(low = 0, high = 10, size = (5,5,5))"
   ]
  },
  {
   "cell_type": "code",
   "execution_count": 25,
   "metadata": {},
   "outputs": [
    {
     "name": "stdout",
     "output_type": "stream",
     "text": [
      "[0. 0. 0. 0. 0.]\n",
      "-\n",
      "[[1. 1. 1. 1. 1.]\n",
      " [1. 1. 1. 1. 1.]\n",
      " [1. 1. 1. 1. 1.]\n",
      " [1. 1. 1. 1. 1.]\n",
      " [1. 1. 1. 1. 1.]]\n",
      "-\n",
      "[[[7 8 9 4 3]\n",
      "  [7 7 9 4 7]\n",
      "  [0 1 5 1 4]\n",
      "  [1 0 2 7 0]\n",
      "  [9 2 7 8 2]]\n",
      "\n",
      " [[9 8 4 4 2]\n",
      "  [2 1 1 7 8]\n",
      "  [8 8 7 0 5]\n",
      "  [8 0 3 6 0]\n",
      "  [6 7 6 7 6]]\n",
      "\n",
      " [[7 2 0 5 2]\n",
      "  [3 4 0 7 6]\n",
      "  [4 7 4 4 2]\n",
      "  [5 0 3 5 5]\n",
      "  [7 4 5 9 3]]\n",
      "\n",
      " [[3 0 7 0 2]\n",
      "  [4 5 5 9 9]\n",
      "  [4 6 5 8 4]\n",
      "  [9 3 3 7 1]\n",
      "  [3 9 5 2 3]]\n",
      "\n",
      " [[7 9 0 8 8]\n",
      "  [9 3 8 2 4]\n",
      "  [6 4 1 7 7]\n",
      "  [8 7 4 5 5]\n",
      "  [6 4 6 6 9]]]\n"
     ]
    }
   ],
   "source": [
    "print(oneDimArray)\n",
    "print('-')\n",
    "print(twoDimArray)\n",
    "print('-')\n",
    "print(threeDimArray)"
   ]
  },
  {
   "cell_type": "code",
   "execution_count": 28,
   "metadata": {},
   "outputs": [
    {
     "name": "stdout",
     "output_type": "stream",
     "text": [
      "(5, 5, 5)\n",
      "3\n",
      "125\n"
     ]
    }
   ],
   "source": [
    "print(threeDimArray.shape)\n",
    "print(threeDimArray.ndim)\n",
    "print(threeDimArray.size)"
   ]
  },
  {
   "cell_type": "code",
   "execution_count": 40,
   "metadata": {},
   "outputs": [
    {
     "data": {
      "text/plain": [
       "array([[8, 8, 8, 8, 8],\n",
       "       [5, 3, 9, 4, 3],\n",
       "       [9, 8, 6, 5, 0],\n",
       "       [6, 0, 3, 2, 8],\n",
       "       [3, 1, 3, 2, 3]])"
      ]
     },
     "execution_count": 40,
     "metadata": {},
     "output_type": "execute_result"
    }
   ],
   "source": [
    "threeDimArray[0]"
   ]
  },
  {
   "cell_type": "code",
   "execution_count": 38,
   "metadata": {},
   "outputs": [],
   "source": [
    "threeDimArray[0][0] = \"8\""
   ]
  },
  {
   "cell_type": "code",
   "execution_count": 39,
   "metadata": {},
   "outputs": [
    {
     "data": {
      "text/plain": [
       "array([[8, 8, 8, 8, 8],\n",
       "       [5, 3, 9, 4, 3],\n",
       "       [9, 8, 6, 5, 0],\n",
       "       [6, 0, 3, 2, 8],\n",
       "       [3, 1, 3, 2, 3]])"
      ]
     },
     "execution_count": 39,
     "metadata": {},
     "output_type": "execute_result"
    }
   ],
   "source": [
    "threeDimArray[0]"
   ]
  },
  {
   "cell_type": "code",
   "execution_count": 42,
   "metadata": {},
   "outputs": [
    {
     "data": {
      "text/plain": [
       "array([[8, 3, 0, 8, 3],\n",
       "       [1, 9, 1, 5, 2],\n",
       "       [0, 0, 9, 7, 4],\n",
       "       [9, 6, 1, 2, 3],\n",
       "       [0, 4, 9, 4, 1]])"
      ]
     },
     "execution_count": 42,
     "metadata": {},
     "output_type": "execute_result"
    }
   ],
   "source": [
    "threeDimArray[:,:,-1]"
   ]
  },
  {
   "cell_type": "code",
   "execution_count": null,
   "metadata": {},
   "outputs": [],
   "source": []
  }
 ],
 "metadata": {
  "kernelspec": {
   "display_name": "Python 3",
   "language": "python",
   "name": "python3"
  },
  "language_info": {
   "codemirror_mode": {
    "name": "ipython",
    "version": 3
   },
   "file_extension": ".py",
   "mimetype": "text/x-python",
   "name": "python",
   "nbconvert_exporter": "python",
   "pygments_lexer": "ipython3",
   "version": "3.7.3"
  }
 },
 "nbformat": 4,
 "nbformat_minor": 4
}
