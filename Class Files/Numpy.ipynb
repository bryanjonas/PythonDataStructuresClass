{
 "cells": [
  {
   "cell_type": "markdown",
   "metadata": {},
   "source": [
    "# Numpy"
   ]
  },
  {
   "cell_type": "code",
   "execution_count": 2,
   "metadata": {},
   "outputs": [],
   "source": [
    "import numpy as np"
   ]
  },
  {
   "cell_type": "markdown",
   "metadata": {},
   "source": [
    "- When you feel the need for more dimensions"
   ]
  },
  {
   "cell_type": "code",
   "execution_count": 3,
   "metadata": {},
   "outputs": [],
   "source": [
    "oneDimArray = np.zeros((5))\n",
    "twoDimArray = np.ones((5,5))\n",
    "threeDimArray = np.random.randint(low = 0, high = 10, size = (5,5,5))"
   ]
  },
  {
   "cell_type": "code",
   "execution_count": 4,
   "metadata": {},
   "outputs": [
    {
     "name": "stdout",
     "output_type": "stream",
     "text": [
      "[0. 0. 0. 0. 0.]\n",
      "-\n",
      "[[1. 1. 1. 1. 1.]\n",
      " [1. 1. 1. 1. 1.]\n",
      " [1. 1. 1. 1. 1.]\n",
      " [1. 1. 1. 1. 1.]\n",
      " [1. 1. 1. 1. 1.]]\n",
      "-\n",
      "[[[6 0 3 8 2]\n",
      "  [1 4 4 9 5]\n",
      "  [0 4 7 8 0]\n",
      "  [7 2 7 7 3]\n",
      "  [3 9 2 4 4]]\n",
      "\n",
      " [[6 8 8 9 4]\n",
      "  [0 6 2 5 0]\n",
      "  [2 2 6 7 1]\n",
      "  [5 6 7 4 8]\n",
      "  [6 1 2 3 0]]\n",
      "\n",
      " [[5 8 1 1 7]\n",
      "  [5 6 3 3 8]\n",
      "  [6 9 9 7 2]\n",
      "  [4 2 3 4 8]\n",
      "  [2 5 6 0 1]]\n",
      "\n",
      " [[1 5 0 5 6]\n",
      "  [4 5 5 7 2]\n",
      "  [7 3 4 5 2]\n",
      "  [8 1 9 6 1]\n",
      "  [4 1 3 5 9]]\n",
      "\n",
      " [[7 8 6 7 6]\n",
      "  [5 6 7 6 5]\n",
      "  [2 1 7 2 0]\n",
      "  [1 2 6 3 3]\n",
      "  [5 2 9 2 1]]]\n"
     ]
    }
   ],
   "source": [
    "print(oneDimArray)\n",
    "print('-')\n",
    "print(twoDimArray)\n",
    "print('-')\n",
    "print(threeDimArray)"
   ]
  },
  {
   "cell_type": "code",
   "execution_count": 5,
   "metadata": {},
   "outputs": [
    {
     "name": "stdout",
     "output_type": "stream",
     "text": [
      "(5, 5, 5)\n",
      "3\n",
      "125\n"
     ]
    }
   ],
   "source": [
    "print(threeDimArray.shape)\n",
    "print(threeDimArray.ndim)\n",
    "print(threeDimArray.size)"
   ]
  },
  {
   "cell_type": "code",
   "execution_count": 6,
   "metadata": {},
   "outputs": [
    {
     "data": {
      "text/plain": [
       "array([[6, 0, 3, 8, 2],\n",
       "       [1, 4, 4, 9, 5],\n",
       "       [0, 4, 7, 8, 0],\n",
       "       [7, 2, 7, 7, 3],\n",
       "       [3, 9, 2, 4, 4]])"
      ]
     },
     "execution_count": 6,
     "metadata": {},
     "output_type": "execute_result"
    }
   ],
   "source": [
    "threeDimArray[0]"
   ]
  },
  {
   "cell_type": "code",
   "execution_count": 7,
   "metadata": {},
   "outputs": [],
   "source": [
    "threeDimArray[0][0] = \"8\""
   ]
  },
  {
   "cell_type": "code",
   "execution_count": 8,
   "metadata": {},
   "outputs": [
    {
     "data": {
      "text/plain": [
       "array([[8, 8, 8, 8, 8],\n",
       "       [1, 4, 4, 9, 5],\n",
       "       [0, 4, 7, 8, 0],\n",
       "       [7, 2, 7, 7, 3],\n",
       "       [3, 9, 2, 4, 4]])"
      ]
     },
     "execution_count": 8,
     "metadata": {},
     "output_type": "execute_result"
    }
   ],
   "source": [
    "threeDimArray[0]"
   ]
  },
  {
   "cell_type": "code",
   "execution_count": 9,
   "metadata": {},
   "outputs": [
    {
     "data": {
      "text/plain": [
       "array([[8, 5, 0, 3, 4],\n",
       "       [4, 0, 1, 8, 0],\n",
       "       [7, 8, 2, 8, 1],\n",
       "       [6, 2, 2, 1, 9],\n",
       "       [6, 5, 0, 3, 1]])"
      ]
     },
     "execution_count": 9,
     "metadata": {},
     "output_type": "execute_result"
    }
   ],
   "source": [
    "threeDimArray[:,:,-1]"
   ]
  },
  {
   "cell_type": "code",
   "execution_count": 10,
   "metadata": {},
   "outputs": [
    {
     "ename": "ValueError",
     "evalue": "could not convert string to float: 'Test'",
     "output_type": "error",
     "traceback": [
      "\u001b[0;31m---------------------------------------------------------------------------\u001b[0m",
      "\u001b[0;31mValueError\u001b[0m                                Traceback (most recent call last)",
      "\u001b[0;32m<ipython-input-10-94aadfc2ddf7>\u001b[0m in \u001b[0;36m<module>\u001b[0;34m\u001b[0m\n\u001b[0;32m----> 1\u001b[0;31m \u001b[0moneDimArray\u001b[0m\u001b[0;34m[\u001b[0m\u001b[0;36m0\u001b[0m\u001b[0;34m]\u001b[0m \u001b[0;34m=\u001b[0m \u001b[0;34m\"Test\"\u001b[0m\u001b[0;34m\u001b[0m\u001b[0;34m\u001b[0m\u001b[0m\n\u001b[0m",
      "\u001b[0;31mValueError\u001b[0m: could not convert string to float: 'Test'"
     ]
    }
   ],
   "source": [
    "oneDimArray[0] = \"Test\""
   ]
  },
  {
   "cell_type": "code",
   "execution_count": null,
   "metadata": {},
   "outputs": [],
   "source": []
  }
 ],
 "metadata": {
  "kernelspec": {
   "display_name": "Python 3",
   "language": "python",
   "name": "python3"
  },
  "language_info": {
   "codemirror_mode": {
    "name": "ipython",
    "version": 3
   },
   "file_extension": ".py",
   "mimetype": "text/x-python",
   "name": "python",
   "nbconvert_exporter": "python",
   "pygments_lexer": "ipython3",
   "version": "3.7.3"
  }
 },
 "nbformat": 4,
 "nbformat_minor": 4
}
